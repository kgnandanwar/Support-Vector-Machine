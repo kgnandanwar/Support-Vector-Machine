{
 "cells": [
  {
   "cell_type": "code",
   "execution_count": 1,
   "id": "237771e0",
   "metadata": {},
   "outputs": [],
   "source": [
    "import numpy as np\n",
    "import matplotlib.pyplot as plt\n",
    "import pandas as pd"
   ]
  },
  {
   "cell_type": "code",
   "execution_count": 2,
   "id": "943febeb",
   "metadata": {},
   "outputs": [],
   "source": [
    "dataset = pd.read_csv(\"csv_result-chronic_kidney_disease_full.csv\")\n",
    "# CSV file had dimensional mismatch for 1 entry, that was rectified manually using excel\n",
    "X = dataset.iloc[:, 1:-1].values\n",
    "y = dataset.iloc[:, -1].values"
   ]
  },
  {
   "cell_type": "code",
   "execution_count": 3,
   "id": "9faa5607",
   "metadata": {},
   "outputs": [],
   "source": [
    "X=pd.DataFrame(X)\n",
    "# X.head()"
   ]
  },
  {
   "cell_type": "code",
   "execution_count": 4,
   "id": "ddd63553",
   "metadata": {
    "scrolled": false
   },
   "outputs": [
    {
     "name": "stdout",
     "output_type": "stream",
     "text": [
      "     0   1      2  3  4       5         6           7           8    9   ...  \\\n",
      "0    48  80   1.02  1  0       ?    normal  notpresent  notpresent  121  ...   \n",
      "1     7  50   1.02  4  0       ?    normal  notpresent  notpresent    ?  ...   \n",
      "2    62  80   1.01  2  3  normal    normal  notpresent  notpresent  423  ...   \n",
      "3    48  70  1.005  4  0  normal  abnormal     present  notpresent  117  ...   \n",
      "4    51  80   1.01  2  0  normal    normal  notpresent  notpresent  106  ...   \n",
      "..   ..  ..    ... .. ..     ...       ...         ...         ...  ...  ...   \n",
      "395  55  80   1.02  0  0  normal    normal  notpresent  notpresent  140  ...   \n",
      "396  42  70  1.025  0  0  normal    normal  notpresent  notpresent   75  ...   \n",
      "397  12  80   1.02  0  0  normal    normal  notpresent  notpresent  100  ...   \n",
      "398  17  60  1.025  0  0  normal    normal  notpresent  notpresent  114  ...   \n",
      "399  58  80  1.025  0  0  normal    normal  notpresent  notpresent  131  ...   \n",
      "\n",
      "       14  15    16   17   18   19  20    21   22   23  \n",
      "0    15.4  44  7800  5.2  yes  yes  no  good   no   no  \n",
      "1    11.3  38  6000    ?   no   no  no  good   no   no  \n",
      "2     9.6  31  7500    ?   no  yes  no  poor   no  yes  \n",
      "3    11.2  32  6700  3.9  yes   no  no  poor  yes  yes  \n",
      "4    11.6  35  7300  4.6   no   no  no  good   no   no  \n",
      "..    ...  ..   ...  ...  ...  ...  ..   ...  ...  ...  \n",
      "395  15.7  47  6700  4.9   no   no  no  good   no   no  \n",
      "396  16.5  54  7800  6.2   no   no  no  good   no   no  \n",
      "397  15.8  49  6600  5.4   no   no  no  good   no   no  \n",
      "398  14.2  51  7200  5.9   no   no  no  good   no   no  \n",
      "399  15.8  53  6800  6.1   no   no  no  good   no   no  \n",
      "\n",
      "[400 rows x 24 columns]\n",
      "['ckd' 'ckd' 'ckd' 'ckd' 'ckd' 'ckd' 'ckd' 'ckd' 'ckd' 'ckd' 'ckd' 'ckd'\n",
      " 'ckd' 'ckd' 'ckd' 'ckd' 'ckd' 'ckd' 'ckd' 'ckd' 'ckd' 'ckd' 'ckd' 'ckd'\n",
      " 'ckd' 'ckd' 'ckd' 'ckd' 'ckd' 'ckd' 'ckd' 'ckd' 'ckd' 'ckd' 'ckd' 'ckd'\n",
      " 'ckd' 'ckd' 'ckd' 'ckd' 'ckd' 'ckd' 'ckd' 'ckd' 'ckd' 'ckd' 'ckd' 'ckd'\n",
      " 'ckd' 'ckd' 'ckd' 'ckd' 'ckd' 'ckd' 'ckd' 'ckd' 'ckd' 'ckd' 'ckd' 'ckd'\n",
      " 'ckd' 'ckd' 'ckd' 'ckd' 'ckd' 'ckd' 'ckd' 'ckd' 'ckd' 'ckd' 'ckd' 'ckd'\n",
      " 'ckd' 'ckd' 'ckd' 'ckd' 'ckd' 'ckd' 'ckd' 'ckd' 'ckd' 'ckd' 'ckd' 'ckd'\n",
      " 'ckd' 'ckd' 'ckd' 'ckd' 'ckd' 'ckd' 'ckd' 'ckd' 'ckd' 'ckd' 'ckd' 'ckd'\n",
      " 'ckd' 'ckd' 'ckd' 'ckd' 'ckd' 'ckd' 'ckd' 'ckd' 'ckd' 'ckd' 'ckd' 'ckd'\n",
      " 'ckd' 'ckd' 'ckd' 'ckd' 'ckd' 'ckd' 'ckd' 'ckd' 'ckd' 'ckd' 'ckd' 'ckd'\n",
      " 'ckd' 'ckd' 'ckd' 'ckd' 'ckd' 'ckd' 'ckd' 'ckd' 'ckd' 'ckd' 'ckd' 'ckd'\n",
      " 'ckd' 'ckd' 'ckd' 'ckd' 'ckd' 'ckd' 'ckd' 'ckd' 'ckd' 'ckd' 'ckd' 'ckd'\n",
      " 'ckd' 'ckd' 'ckd' 'ckd' 'ckd' 'ckd' 'ckd' 'ckd' 'ckd' 'ckd' 'ckd' 'ckd'\n",
      " 'ckd' 'ckd' 'ckd' 'ckd' 'ckd' 'ckd' 'ckd' 'ckd' 'ckd' 'ckd' 'ckd' 'ckd'\n",
      " 'ckd' 'ckd' 'ckd' 'ckd' 'ckd' 'ckd' 'ckd' 'ckd' 'ckd' 'ckd' 'ckd' 'ckd'\n",
      " 'ckd' 'ckd' 'ckd' 'ckd' 'ckd' 'ckd' 'ckd' 'ckd' 'ckd' 'ckd' 'ckd' 'ckd'\n",
      " 'ckd' 'ckd' 'ckd' 'ckd' 'ckd' 'ckd' 'ckd' 'ckd' 'ckd' 'ckd' 'ckd' 'ckd'\n",
      " 'ckd' 'ckd' 'ckd' 'ckd' 'ckd' 'ckd' 'ckd' 'ckd' 'ckd' 'ckd' 'ckd' 'ckd'\n",
      " 'ckd' 'ckd' 'ckd' 'ckd' 'ckd' 'ckd' 'ckd' 'ckd' 'ckd' 'ckd' 'ckd' 'ckd'\n",
      " 'ckd' 'ckd' 'ckd' 'ckd' 'ckd' 'ckd' 'ckd' 'ckd' 'ckd' 'ckd' 'ckd' 'ckd'\n",
      " 'ckd' 'ckd' 'ckd' 'ckd' 'ckd' 'ckd' 'ckd' 'ckd' 'ckd' 'ckd' 'notckd'\n",
      " 'notckd' 'notckd' 'notckd' 'notckd' 'notckd' 'notckd' 'notckd' 'notckd'\n",
      " 'notckd' 'notckd' 'notckd' 'notckd' 'notckd' 'notckd' 'notckd' 'notckd'\n",
      " 'notckd' 'notckd' 'notckd' 'notckd' 'notckd' 'notckd' 'notckd' 'notckd'\n",
      " 'notckd' 'notckd' 'notckd' 'notckd' 'notckd' 'notckd' 'notckd' 'notckd'\n",
      " 'notckd' 'notckd' 'notckd' 'notckd' 'notckd' 'notckd' 'notckd' 'notckd'\n",
      " 'notckd' 'notckd' 'notckd' 'notckd' 'notckd' 'notckd' 'notckd' 'notckd'\n",
      " 'notckd' 'notckd' 'notckd' 'notckd' 'notckd' 'notckd' 'notckd' 'notckd'\n",
      " 'notckd' 'notckd' 'notckd' 'notckd' 'notckd' 'notckd' 'notckd' 'notckd'\n",
      " 'notckd' 'notckd' 'notckd' 'notckd' 'notckd' 'notckd' 'notckd' 'notckd'\n",
      " 'notckd' 'notckd' 'notckd' 'notckd' 'notckd' 'notckd' 'notckd' 'notckd'\n",
      " 'notckd' 'notckd' 'notckd' 'notckd' 'notckd' 'notckd' 'notckd' 'notckd'\n",
      " 'notckd' 'notckd' 'notckd' 'notckd' 'notckd' 'notckd' 'notckd' 'notckd'\n",
      " 'notckd' 'notckd' 'notckd' 'notckd' 'notckd' 'notckd' 'notckd' 'notckd'\n",
      " 'notckd' 'notckd' 'notckd' 'notckd' 'notckd' 'notckd' 'notckd' 'notckd'\n",
      " 'notckd' 'notckd' 'notckd' 'notckd' 'notckd' 'notckd' 'notckd' 'notckd'\n",
      " 'notckd' 'notckd' 'notckd' 'notckd' 'notckd' 'notckd' 'notckd' 'notckd'\n",
      " 'notckd' 'notckd' 'notckd' 'notckd' 'notckd' 'notckd' 'notckd' 'notckd'\n",
      " 'notckd' 'notckd' 'notckd' 'notckd' 'notckd' 'notckd' 'notckd' 'notckd'\n",
      " 'notckd' 'notckd' 'notckd' 'notckd' 'notckd']\n"
     ]
    }
   ],
   "source": [
    "print(X)\n",
    "print(y)"
   ]
  },
  {
   "cell_type": "code",
   "execution_count": 5,
   "id": "995e3ebb",
   "metadata": {},
   "outputs": [
    {
     "name": "stdout",
     "output_type": "stream",
     "text": [
      "     0   1      2  3  4    5    6    7    8    9   ...    14  15    16   17  \\\n",
      "0    48  80   1.02  1  0  NaN  1.0  0.0  0.0  121  ...  15.4  44  7800  5.2   \n",
      "1     7  50   1.02  4  0  NaN  1.0  0.0  0.0  NaN  ...  11.3  38  6000  NaN   \n",
      "2    62  80   1.01  2  3  1.0  1.0  0.0  0.0  423  ...   9.6  31  7500  NaN   \n",
      "3    48  70  1.005  4  0  1.0  0.0  1.0  0.0  117  ...  11.2  32  6700  3.9   \n",
      "4    51  80   1.01  2  0  1.0  1.0  0.0  0.0  106  ...  11.6  35  7300  4.6   \n",
      "..   ..  ..    ... .. ..  ...  ...  ...  ...  ...  ...   ...  ..   ...  ...   \n",
      "395  55  80   1.02  0  0  1.0  1.0  0.0  0.0  140  ...  15.7  47  6700  4.9   \n",
      "396  42  70  1.025  0  0  1.0  1.0  0.0  0.0   75  ...  16.5  54  7800  6.2   \n",
      "397  12  80   1.02  0  0  1.0  1.0  0.0  0.0  100  ...  15.8  49  6600  5.4   \n",
      "398  17  60  1.025  0  0  1.0  1.0  0.0  0.0  114  ...  14.2  51  7200  5.9   \n",
      "399  58  80  1.025  0  0  1.0  1.0  0.0  0.0  131  ...  15.8  53  6800  6.1   \n",
      "\n",
      "      18   19   20   21   22   23  \n",
      "0    1.0  1.0  0.0  1.0  0.0  0.0  \n",
      "1    0.0  0.0  0.0  1.0  0.0  0.0  \n",
      "2    0.0  1.0  0.0  0.0  0.0  1.0  \n",
      "3    1.0  0.0  0.0  0.0  1.0  1.0  \n",
      "4    0.0  0.0  0.0  1.0  0.0  0.0  \n",
      "..   ...  ...  ...  ...  ...  ...  \n",
      "395  0.0  0.0  0.0  1.0  0.0  0.0  \n",
      "396  0.0  0.0  0.0  1.0  0.0  0.0  \n",
      "397  0.0  0.0  0.0  1.0  0.0  0.0  \n",
      "398  0.0  0.0  0.0  1.0  0.0  0.0  \n",
      "399  0.0  0.0  0.0  1.0  0.0  0.0  \n",
      "\n",
      "[400 rows x 24 columns]\n"
     ]
    }
   ],
   "source": [
    "# Replace command works only on DataFrame\n",
    "X = X.replace('?', np.nan)\n",
    "X = X.replace(['normal','present','yes','good'], [1,1,1,1])\n",
    "X = X.replace(['notpresent', 'abnormal','no','poor'], [0,0,0,0])\n",
    "print(X)"
   ]
  },
  {
   "cell_type": "code",
   "execution_count": 6,
   "id": "9f06f335",
   "metadata": {},
   "outputs": [
    {
     "name": "stdout",
     "output_type": "stream",
     "text": [
      "[[48.0 80.0 1.02 ... 1.0 0.0 0.0]\n",
      " [7.0 50.0 1.02 ... 1.0 0.0 0.0]\n",
      " [62.0 80.0 1.01 ... 0.0 0.0 1.0]\n",
      " ...\n",
      " [12.0 80.0 1.02 ... 1.0 0.0 0.0]\n",
      " [17.0 60.0 1.025 ... 1.0 0.0 0.0]\n",
      " [58.0 80.0 1.025 ... 1.0 0.0 0.0]]\n"
     ]
    }
   ],
   "source": [
    "# Simple Imputer works only on array, hence converting Dataframe to Array\n",
    "X = X.to_numpy() #Convert DataFrame to Array\n",
    "from sklearn.impute import SimpleImputer\n",
    "imputer = SimpleImputer(missing_values=np.nan, strategy='mean')\n",
    "imputer.fit(X[:, 0:24])\n",
    "X[:, 0:24] = imputer.transform(X[:, 0:24])\n",
    "print(X)"
   ]
  },
  {
   "cell_type": "code",
   "execution_count": 7,
   "id": "fc3ac09e",
   "metadata": {},
   "outputs": [
    {
     "name": "stdout",
     "output_type": "stream",
     "text": [
      "       0     1      2    3    4         5    6    7    8           9   ...  \\\n",
      "0    48.0  80.0   1.02  1.0  0.0  0.810484  1.0  0.0  0.0       121.0  ...   \n",
      "1     7.0  50.0   1.02  4.0  0.0  0.810484  1.0  0.0  0.0  148.036517  ...   \n",
      "2    62.0  80.0   1.01  2.0  3.0       1.0  1.0  0.0  0.0       423.0  ...   \n",
      "3    48.0  70.0  1.005  4.0  0.0       1.0  0.0  1.0  0.0       117.0  ...   \n",
      "4    51.0  80.0   1.01  2.0  0.0       1.0  1.0  0.0  0.0       106.0  ...   \n",
      "..    ...   ...    ...  ...  ...       ...  ...  ...  ...         ...  ...   \n",
      "395  55.0  80.0   1.02  0.0  0.0       1.0  1.0  0.0  0.0       140.0  ...   \n",
      "396  42.0  70.0  1.025  0.0  0.0       1.0  1.0  0.0  0.0        75.0  ...   \n",
      "397  12.0  80.0   1.02  0.0  0.0       1.0  1.0  0.0  0.0       100.0  ...   \n",
      "398  17.0  60.0  1.025  0.0  0.0       1.0  1.0  0.0  0.0       114.0  ...   \n",
      "399  58.0  80.0  1.025  0.0  0.0       1.0  1.0  0.0  0.0       131.0  ...   \n",
      "\n",
      "       14    15      16        17   18   19   20   21   22   23  \n",
      "0    15.4  44.0  7800.0       5.2  1.0  1.0  0.0  1.0  0.0  0.0  \n",
      "1    11.3  38.0  6000.0  4.707435  0.0  0.0  0.0  1.0  0.0  0.0  \n",
      "2     9.6  31.0  7500.0  4.707435  0.0  1.0  0.0  0.0  0.0  1.0  \n",
      "3    11.2  32.0  6700.0       3.9  1.0  0.0  0.0  0.0  1.0  1.0  \n",
      "4    11.6  35.0  7300.0       4.6  0.0  0.0  0.0  1.0  0.0  0.0  \n",
      "..    ...   ...     ...       ...  ...  ...  ...  ...  ...  ...  \n",
      "395  15.7  47.0  6700.0       4.9  0.0  0.0  0.0  1.0  0.0  0.0  \n",
      "396  16.5  54.0  7800.0       6.2  0.0  0.0  0.0  1.0  0.0  0.0  \n",
      "397  15.8  49.0  6600.0       5.4  0.0  0.0  0.0  1.0  0.0  0.0  \n",
      "398  14.2  51.0  7200.0       5.9  0.0  0.0  0.0  1.0  0.0  0.0  \n",
      "399  15.8  53.0  6800.0       6.1  0.0  0.0  0.0  1.0  0.0  0.0  \n",
      "\n",
      "[400 rows x 24 columns]\n"
     ]
    }
   ],
   "source": [
    "X=pd.DataFrame(X) # Converting to DataFrame\n",
    "print(X)"
   ]
  },
  {
   "cell_type": "code",
   "execution_count": 8,
   "id": "30a32b02",
   "metadata": {},
   "outputs": [],
   "source": [
    "from sklearn.model_selection import train_test_split\n",
    "X_train, X_test, y_train, y_test = train_test_split(X, y, test_size = 0.2, random_state = 0)\n"
   ]
  },
  {
   "cell_type": "code",
   "execution_count": 9,
   "id": "c1deec60",
   "metadata": {},
   "outputs": [],
   "source": [
    "X_train = pd.DataFrame(X_train)\n",
    "X_test = pd.DataFrame(X_test)"
   ]
  },
  {
   "cell_type": "code",
   "execution_count": 10,
   "id": "7202a615",
   "metadata": {},
   "outputs": [
    {
     "name": "stdout",
     "output_type": "stream",
     "text": [
      "            0      1         2         3         4         5         6   \\\n",
      "336       25.0   60.0      1.02       0.0       0.0       1.0       1.0   \n",
      "64        55.0   80.0      1.01       0.0       0.0  0.810484       1.0   \n",
      "55        35.0   80.0     1.005       3.0       0.0       0.0       1.0   \n",
      "106       50.0   90.0  1.017408  1.016949  0.450142  0.810484  0.773134   \n",
      "300       45.0   60.0      1.02       0.0       0.0       1.0       1.0   \n",
      "..         ...    ...       ...       ...       ...       ...       ...   \n",
      "323       43.0   80.0     1.025       0.0       0.0       1.0       1.0   \n",
      "192       46.0  110.0     1.015       0.0       0.0  0.810484       1.0   \n",
      "117  51.483376   70.0      1.02       0.0       0.0  0.810484  0.773134   \n",
      "47        11.0   80.0      1.01       3.0       0.0  0.810484       1.0   \n",
      "172       62.0   80.0      1.01       1.0       2.0  0.810484  0.773134   \n",
      "\n",
      "           7         8           9   ...         14         15           16  \\\n",
      "336       0.0       0.0       119.0  ...       15.2       40.0       9200.0   \n",
      "64        0.0       0.0       146.0  ...        9.8  38.884498  8406.122449   \n",
      "55        0.0       0.0  148.036517  ...        9.5       28.0  8406.122449   \n",
      "106       0.0       0.0        89.0  ...        6.0       17.0       6500.0   \n",
      "300  0.106061  0.055556       114.0  ...       15.0       43.0       9200.0   \n",
      "..        ...       ...         ...  ...        ...        ...          ...   \n",
      "323       0.0       0.0       130.0  ...       15.9       45.0       7800.0   \n",
      "192       0.0       0.0       130.0  ...  12.526437  38.884498  8406.122449   \n",
      "117       0.0       0.0       219.0  ...       12.5       37.0       9800.0   \n",
      "47        0.0       0.0  148.036517  ...       15.0       45.0       8600.0   \n",
      "172       0.0       0.0       309.0  ...       10.6       34.0      12800.0   \n",
      "\n",
      "           17   18   19   20   21   22   23  \n",
      "336       5.2  0.0  0.0  0.0  1.0  0.0  0.0  \n",
      "64   4.707435  0.0  0.0  0.0  1.0  0.0  0.0  \n",
      "55   4.707435  0.0  0.0  0.0  1.0  1.0  0.0  \n",
      "106  4.707435  1.0  1.0  0.0  1.0  1.0  1.0  \n",
      "300       5.8  0.0  0.0  0.0  1.0  0.0  0.0  \n",
      "..        ...  ...  ...  ...  ...  ...  ...  \n",
      "323       4.5  0.0  0.0  0.0  1.0  0.0  0.0  \n",
      "192  4.707435  0.0  0.0  0.0  1.0  0.0  0.0  \n",
      "117       4.4  0.0  0.0  0.0  1.0  0.0  0.0  \n",
      "47   4.707435  0.0  0.0  0.0  1.0  0.0  0.0  \n",
      "172       4.9  0.0  0.0  0.0  1.0  0.0  0.0  \n",
      "\n",
      "[320 rows x 24 columns]\n"
     ]
    }
   ],
   "source": [
    "print(X_train)"
   ]
  },
  {
   "cell_type": "code",
   "execution_count": 11,
   "id": "dbf36cce",
   "metadata": {},
   "outputs": [
    {
     "name": "stdout",
     "output_type": "stream",
     "text": [
      "       0          1         2         3         4         5         6    7   \\\n",
      "132  50.0  76.469072  1.017408  1.016949  0.450142       1.0  0.773134  0.0   \n",
      "309  51.0       60.0      1.02       0.0       0.0  0.810484  0.773134  0.0   \n",
      "341  63.0       70.0     1.025       0.0       0.0       1.0       1.0  0.0   \n",
      "196  49.0      100.0      1.01       3.0       0.0       0.0       0.0  0.0   \n",
      "246  48.0      110.0     1.015       3.0       0.0       0.0       1.0  1.0   \n",
      "..    ...        ...       ...       ...       ...       ...       ...  ...   \n",
      "14   68.0       80.0      1.01       3.0       2.0       1.0       0.0  1.0   \n",
      "363  67.0       80.0     1.025       0.0       0.0       1.0       1.0  0.0   \n",
      "304  33.0       80.0     1.025       0.0       0.0       1.0       1.0  0.0   \n",
      "361  29.0       80.0      1.02       0.0       0.0       1.0       1.0  0.0   \n",
      "329  33.0       60.0     1.025       0.0       0.0       1.0       1.0  0.0   \n",
      "\n",
      "      8      9   ...    14    15       16   17   18   19   20   21   22   23  \n",
      "132  0.0  219.0  ...   8.6  24.0  13200.0  2.7  1.0  0.0  0.0  1.0  1.0  1.0  \n",
      "309  0.0  129.0  ...  17.2  40.0   8100.0  5.9  0.0  0.0  0.0  1.0  0.0  0.0  \n",
      "341  0.0  130.0  ...  13.4  41.0   7300.0  4.7  0.0  0.0  0.0  1.0  0.0  0.0  \n",
      "196  0.0  129.0  ...   8.1  24.0   9600.0  3.5  1.0  1.0  0.0  0.0  1.0  1.0  \n",
      "246  0.0  106.0  ...   8.6  26.0   5000.0  2.5  1.0  0.0  1.0  1.0  0.0  1.0  \n",
      "..   ...    ...  ...   ...   ...      ...  ...  ...  ...  ...  ...  ...  ...  \n",
      "14   1.0  157.0  ...   5.6  16.0  11000.0  2.6  1.0  1.0  1.0  0.0  1.0  0.0  \n",
      "363  0.0   99.0  ...  17.8  44.0   5900.0  5.2  0.0  0.0  0.0  1.0  0.0  0.0  \n",
      "304  0.0  128.0  ...  13.1  45.0   6200.0  4.5  0.0  0.0  0.0  1.0  0.0  0.0  \n",
      "361  0.0   70.0  ...  13.7  54.0   5400.0  5.8  0.0  0.0  0.0  1.0  0.0  0.0  \n",
      "329  0.0   80.0  ...  14.1  48.0   7800.0  5.1  0.0  0.0  0.0  1.0  0.0  0.0  \n",
      "\n",
      "[80 rows x 24 columns]\n"
     ]
    }
   ],
   "source": [
    "print(X_test)"
   ]
  },
  {
   "cell_type": "code",
   "execution_count": 12,
   "id": "489ec6de",
   "metadata": {},
   "outputs": [
    {
     "name": "stdout",
     "output_type": "stream",
     "text": [
      "['notckd' 'ckd' 'ckd' 'ckd' 'notckd' 'ckd' 'ckd' 'notckd' 'notckd'\n",
      " 'notckd' 'notckd' 'notckd' 'ckd' 'ckd' 'ckd' 'ckd' 'ckd' 'notckd'\n",
      " 'notckd' 'notckd' 'notckd' 'ckd' 'notckd' 'ckd' 'notckd' 'notckd' 'ckd'\n",
      " 'notckd' 'ckd' 'notckd' 'ckd' 'ckd' 'notckd' 'ckd' 'notckd' 'ckd'\n",
      " 'notckd' 'ckd' 'ckd' 'notckd' 'ckd' 'ckd' 'ckd' 'ckd' 'notckd' 'ckd'\n",
      " 'ckd' 'notckd' 'notckd' 'ckd' 'ckd' 'notckd' 'ckd' 'ckd' 'ckd' 'ckd'\n",
      " 'notckd' 'ckd' 'notckd' 'ckd' 'ckd' 'ckd' 'ckd' 'ckd' 'notckd' 'ckd'\n",
      " 'notckd' 'ckd' 'ckd' 'ckd' 'notckd' 'ckd' 'notckd' 'ckd' 'ckd' 'ckd'\n",
      " 'notckd' 'ckd' 'ckd' 'notckd' 'notckd' 'ckd' 'ckd' 'notckd' 'ckd' 'ckd'\n",
      " 'ckd' 'ckd' 'ckd' 'ckd' 'ckd' 'notckd' 'ckd' 'notckd' 'ckd' 'notckd'\n",
      " 'ckd' 'ckd' 'notckd' 'notckd' 'ckd' 'ckd' 'ckd' 'notckd' 'ckd' 'ckd'\n",
      " 'ckd' 'ckd' 'notckd' 'notckd' 'ckd' 'notckd' 'notckd' 'ckd' 'ckd' 'ckd'\n",
      " 'ckd' 'ckd' 'notckd' 'ckd' 'ckd' 'ckd' 'ckd' 'notckd' 'notckd' 'notckd'\n",
      " 'ckd' 'ckd' 'ckd' 'notckd' 'ckd' 'ckd' 'notckd' 'ckd' 'ckd' 'ckd' 'ckd'\n",
      " 'ckd' 'ckd' 'notckd' 'notckd' 'notckd' 'ckd' 'ckd' 'notckd' 'ckd' 'ckd'\n",
      " 'notckd' 'ckd' 'ckd' 'notckd' 'ckd' 'notckd' 'notckd' 'ckd' 'ckd' 'ckd'\n",
      " 'ckd' 'ckd' 'ckd' 'notckd' 'ckd' 'notckd' 'ckd' 'ckd' 'notckd' 'ckd'\n",
      " 'ckd' 'ckd' 'ckd' 'ckd' 'notckd' 'ckd' 'ckd' 'notckd' 'ckd' 'notckd'\n",
      " 'ckd' 'ckd' 'notckd' 'ckd' 'notckd' 'ckd' 'ckd' 'notckd' 'ckd' 'notckd'\n",
      " 'ckd' 'ckd' 'ckd' 'notckd' 'notckd' 'notckd' 'ckd' 'notckd' 'ckd'\n",
      " 'notckd' 'ckd' 'notckd' 'ckd' 'notckd' 'ckd' 'notckd' 'ckd' 'ckd'\n",
      " 'notckd' 'ckd' 'ckd' 'notckd' 'notckd' 'notckd' 'ckd' 'ckd' 'ckd'\n",
      " 'notckd' 'ckd' 'ckd' 'ckd' 'ckd' 'ckd' 'ckd' 'notckd' 'ckd' 'notckd'\n",
      " 'ckd' 'notckd' 'ckd' 'notckd' 'ckd' 'notckd' 'ckd' 'ckd' 'notckd' 'ckd'\n",
      " 'ckd' 'notckd' 'ckd' 'ckd' 'ckd' 'ckd' 'ckd' 'notckd' 'notckd' 'notckd'\n",
      " 'notckd' 'ckd' 'ckd' 'ckd' 'notckd' 'notckd' 'ckd' 'ckd' 'notckd' 'ckd'\n",
      " 'notckd' 'ckd' 'notckd' 'notckd' 'notckd' 'ckd' 'ckd' 'notckd' 'notckd'\n",
      " 'notckd' 'ckd' 'ckd' 'notckd' 'ckd' 'notckd' 'ckd' 'ckd' 'ckd' 'ckd'\n",
      " 'ckd' 'ckd' 'ckd' 'ckd' 'ckd' 'ckd' 'notckd' 'notckd' 'notckd' 'ckd'\n",
      " 'notckd' 'notckd' 'ckd' 'ckd' 'notckd' 'notckd' 'ckd' 'ckd' 'ckd'\n",
      " 'notckd' 'ckd' 'notckd' 'ckd' 'ckd' 'notckd' 'notckd' 'ckd' 'notckd'\n",
      " 'ckd' 'ckd' 'notckd' 'ckd' 'ckd' 'ckd' 'notckd' 'ckd' 'notckd' 'ckd'\n",
      " 'ckd' 'notckd' 'ckd' 'notckd' 'notckd' 'ckd' 'ckd' 'ckd' 'ckd']\n"
     ]
    }
   ],
   "source": [
    "print(y_train)"
   ]
  },
  {
   "cell_type": "code",
   "execution_count": 13,
   "id": "1e1b9c03",
   "metadata": {},
   "outputs": [
    {
     "name": "stdout",
     "output_type": "stream",
     "text": [
      "['ckd' 'notckd' 'notckd' 'ckd' 'ckd' 'ckd' 'ckd' 'notckd' 'ckd' 'ckd'\n",
      " 'ckd' 'ckd' 'ckd' 'notckd' 'ckd' 'ckd' 'notckd' 'ckd' 'ckd' 'ckd' 'ckd'\n",
      " 'notckd' 'ckd' 'notckd' 'ckd' 'notckd' 'ckd' 'ckd' 'notckd' 'ckd' 'ckd'\n",
      " 'notckd' 'notckd' 'ckd' 'ckd' 'ckd' 'ckd' 'ckd' 'ckd' 'notckd' 'ckd'\n",
      " 'notckd' 'ckd' 'ckd' 'notckd' 'ckd' 'notckd' 'notckd' 'ckd' 'ckd' 'ckd'\n",
      " 'ckd' 'notckd' 'ckd' 'notckd' 'notckd' 'ckd' 'ckd' 'ckd' 'ckd' 'ckd'\n",
      " 'notckd' 'ckd' 'notckd' 'ckd' 'notckd' 'ckd' 'ckd' 'ckd' 'notckd' 'ckd'\n",
      " 'notckd' 'ckd' 'ckd' 'ckd' 'ckd' 'notckd' 'notckd' 'notckd' 'notckd']\n"
     ]
    }
   ],
   "source": [
    " print(y_test)"
   ]
  },
  {
   "cell_type": "code",
   "execution_count": 14,
   "id": "c4a43aa9",
   "metadata": {},
   "outputs": [],
   "source": [
    "from sklearn.preprocessing import StandardScaler\n",
    "sc = StandardScaler()\n",
    "X_train = sc.fit_transform(X_train)\n",
    "X_test = sc.transform(X_test)"
   ]
  },
  {
   "cell_type": "code",
   "execution_count": 15,
   "id": "dab50636",
   "metadata": {},
   "outputs": [],
   "source": [
    "X_test=pd.DataFrame(X_test)\n",
    "X_train=pd.DataFrame(X_train)\n",
    "y_test=pd.DataFrame(y_test)\n",
    "y_train=pd.DataFrame(y_train)"
   ]
  },
  {
   "cell_type": "code",
   "execution_count": 16,
   "id": "64451135",
   "metadata": {},
   "outputs": [
    {
     "name": "stdout",
     "output_type": "stream",
     "text": [
      "           0         1         2         3         4         5         6   \\\n",
      "0   -1.509357 -1.183194  0.448853 -0.774825 -0.440322  0.607481  0.590331   \n",
      "1    0.232128  0.284839 -1.431942 -0.774825 -0.440322 -0.024323  0.590331   \n",
      "2   -0.928862  0.284839 -2.372339  1.650894 -0.440322 -2.726294  0.590331   \n",
      "3   -0.058119  1.018856 -0.038662  0.047452  0.024491 -0.024323 -0.004698   \n",
      "4   -0.348367 -1.183194  0.448853 -0.774825 -0.440322  0.607481  0.590331   \n",
      "..        ...       ...       ...       ...       ...       ...       ...   \n",
      "315 -0.464466  0.284839  1.389251 -0.774825 -0.440322  0.607481  0.590331   \n",
      "316 -0.290317  2.486889 -0.491544 -0.774825 -0.440322 -0.024323  0.590331   \n",
      "317  0.027990 -0.449177  0.448853 -0.774825 -0.440322 -0.024323 -0.004698   \n",
      "318 -2.322050  0.284839 -1.431942  1.650894 -0.440322 -0.024323  0.590331   \n",
      "319  0.638475  0.284839 -1.431942  0.033748  1.624858 -0.024323 -0.004698   \n",
      "\n",
      "           7         8         9   ...        14        15        16  \\\n",
      "0   -0.337990 -0.217350 -0.402827  ...  0.983269  0.108983  0.271863   \n",
      "1   -0.337990 -0.217350 -0.016941  ... -1.052762 -0.031886 -0.035296   \n",
      "2   -0.337990 -0.217350  0.012165  ... -1.165875 -1.406419 -0.035296   \n",
      "3   -0.337990 -0.217350 -0.831588  ... -2.485525 -2.795537 -0.772791   \n",
      "4    0.015794  0.054338 -0.474287  ...  0.907861  0.487833  0.271863   \n",
      "..        ...       ...       ...  ...       ...       ...       ...   \n",
      "315 -0.337990 -0.217350 -0.245614  ...  1.247199  0.740400 -0.269810   \n",
      "316 -0.337990 -0.217350 -0.245614  ... -0.024779 -0.031886 -0.035296   \n",
      "317 -0.337990 -0.217350  1.026379  ... -0.034746 -0.269867  0.504008   \n",
      "318 -0.337990 -0.217350  0.012165  ...  0.907861  0.740400  0.039717   \n",
      "319 -0.337990 -0.217350  2.312663  ... -0.751128 -0.648718  1.664734   \n",
      "\n",
      "           17       18        19        20        21        22        23  \n",
      "0    0.554598 -0.75715 -0.751885 -0.292145  0.514609 -0.485305 -0.399275  \n",
      "1   -0.051272 -0.75715 -0.751885 -0.292145  0.514609 -0.485305 -0.399275  \n",
      "2   -0.051272 -0.75715 -0.751885 -0.292145  0.514609  2.060559 -0.399275  \n",
      "3   -0.051272  1.32491  1.334073 -0.292145  0.514609  2.060559  2.504541  \n",
      "4    1.292616 -0.75715 -0.751885 -0.292145  0.514609 -0.485305 -0.399275  \n",
      "..        ...      ...       ...       ...       ...       ...       ...  \n",
      "315 -0.306423 -0.75715 -0.751885 -0.292145  0.514609 -0.485305 -0.399275  \n",
      "316 -0.051272 -0.75715 -0.751885 -0.292145  0.514609 -0.485305 -0.399275  \n",
      "317 -0.429426 -0.75715 -0.751885 -0.292145  0.514609 -0.485305 -0.399275  \n",
      "318 -0.051272 -0.75715 -0.751885 -0.292145  0.514609 -0.485305 -0.399275  \n",
      "319  0.185589 -0.75715 -0.751885 -0.292145  0.514609 -0.485305 -0.399275  \n",
      "\n",
      "[320 rows x 24 columns]\n"
     ]
    }
   ],
   "source": [
    "print(X_train)"
   ]
  },
  {
   "cell_type": "code",
   "execution_count": 17,
   "id": "76b89729",
   "metadata": {},
   "outputs": [
    {
     "name": "stdout",
     "output_type": "stream",
     "text": [
      "          0         1         2         3         4         5         6   \\\n",
      "0  -0.058119  0.025663 -0.038662  0.047452  0.024491  0.607481 -0.004698   \n",
      "1  -0.000070 -1.183194  0.448853 -0.774825 -0.440322 -0.024323 -0.004698   \n",
      "2   0.696525 -0.449177  1.389251 -0.774825 -0.440322  0.607481  0.590331   \n",
      "3  -0.116169  1.752872 -1.431942  1.650894 -0.440322 -2.726294 -2.032492   \n",
      "4  -0.174218  2.486889 -0.491544  1.650894 -0.440322 -2.726294  0.590331   \n",
      "..       ...       ...       ...       ...       ...       ...       ...   \n",
      "75  0.986772  0.284839 -1.431942  1.650894  1.624858  0.607481 -2.032492   \n",
      "76  0.928723  0.284839  1.389251 -0.774825 -0.440322  0.607481  0.590331   \n",
      "77 -1.044961  0.284839  1.389251 -0.774825 -0.440322  0.607481  0.590331   \n",
      "78 -1.277159  0.284839  0.448853 -0.774825 -0.440322  0.607481  0.590331   \n",
      "79 -1.044961 -1.183194  1.389251 -0.774825 -0.440322  0.607481  0.590331   \n",
      "\n",
      "          7         8         9   ...        14        15        16        17  \\\n",
      "0  -0.337990 -0.217350  1.026379  ... -1.505214 -1.911553  1.819498 -2.520477   \n",
      "1  -0.337990 -0.217350 -0.259906  ...  1.737355  0.108983 -0.153737  1.415619   \n",
      "2  -0.337990 -0.217350 -0.245614  ...  0.304592  0.235267 -0.463264 -0.060417   \n",
      "3  -0.337990 -0.217350 -0.259906  ... -1.693735 -1.911553  0.426626 -1.536453   \n",
      "4   2.997685 -0.217350 -0.588623  ... -1.505214 -1.658986 -1.353154 -2.766483   \n",
      "..       ...       ...       ...  ...       ...       ...       ...       ...   \n",
      "75  2.997685  4.673033  0.140271  ... -2.636342 -2.921820  0.968299 -2.643480   \n",
      "76 -0.337990 -0.217350 -0.688668  ...  1.963581  0.614117 -1.004936  0.554598   \n",
      "77 -0.337990 -0.217350 -0.274198  ...  0.191479  0.740400 -0.888864 -0.306423   \n",
      "78 -0.337990 -0.217350 -1.103137  ...  0.417705  1.876952 -1.198391  1.292616   \n",
      "79 -0.337990 -0.217350 -0.960217  ...  0.568522  1.119251 -0.269810  0.431595   \n",
      "\n",
      "         18        19        20        21        22        23  \n",
      "0   1.32491 -0.751885 -0.292145  0.514609  2.060559  2.504541  \n",
      "1  -0.75715 -0.751885 -0.292145  0.514609 -0.485305 -0.399275  \n",
      "2  -0.75715 -0.751885 -0.292145  0.514609 -0.485305 -0.399275  \n",
      "3   1.32491  1.334073 -0.292145 -1.943224  2.060559  2.504541  \n",
      "4   1.32491 -0.751885  3.434571  0.514609 -0.485305  2.504541  \n",
      "..      ...       ...       ...       ...       ...       ...  \n",
      "75  1.32491  1.334073  3.434571 -1.943224  2.060559 -0.399275  \n",
      "76 -0.75715 -0.751885 -0.292145  0.514609 -0.485305 -0.399275  \n",
      "77 -0.75715 -0.751885 -0.292145  0.514609 -0.485305 -0.399275  \n",
      "78 -0.75715 -0.751885 -0.292145  0.514609 -0.485305 -0.399275  \n",
      "79 -0.75715 -0.751885 -0.292145  0.514609 -0.485305 -0.399275  \n",
      "\n",
      "[80 rows x 24 columns]\n"
     ]
    }
   ],
   "source": [
    "print(X_test)"
   ]
  },
  {
   "cell_type": "code",
   "execution_count": 18,
   "id": "edbc0cc3",
   "metadata": {},
   "outputs": [
    {
     "name": "stdout",
     "output_type": "stream",
     "text": [
      "          0\n",
      "0    notckd\n",
      "1       ckd\n",
      "2       ckd\n",
      "3       ckd\n",
      "4    notckd\n",
      "..      ...\n",
      "315  notckd\n",
      "316     ckd\n",
      "317     ckd\n",
      "318     ckd\n",
      "319     ckd\n",
      "\n",
      "[320 rows x 1 columns]\n"
     ]
    }
   ],
   "source": [
    "print(y_train)"
   ]
  },
  {
   "cell_type": "code",
   "execution_count": 19,
   "id": "af9d146c",
   "metadata": {},
   "outputs": [
    {
     "name": "stdout",
     "output_type": "stream",
     "text": [
      "         0\n",
      "0      ckd\n",
      "1   notckd\n",
      "2   notckd\n",
      "3      ckd\n",
      "4      ckd\n",
      "..     ...\n",
      "75     ckd\n",
      "76  notckd\n",
      "77  notckd\n",
      "78  notckd\n",
      "79  notckd\n",
      "\n",
      "[80 rows x 1 columns]\n"
     ]
    }
   ],
   "source": [
    "print(y_test)"
   ]
  },
  {
   "cell_type": "code",
   "execution_count": 20,
   "id": "ec836a6e",
   "metadata": {},
   "outputs": [
    {
     "data": {
      "text/plain": [
       "pandas.core.frame.DataFrame"
      ]
     },
     "execution_count": 20,
     "metadata": {},
     "output_type": "execute_result"
    }
   ],
   "source": [
    "type(X_test)"
   ]
  },
  {
   "cell_type": "code",
   "execution_count": 21,
   "id": "bf817627",
   "metadata": {
    "scrolled": true
   },
   "outputs": [
    {
     "name": "stdout",
     "output_type": "stream",
     "text": [
      "          0         1         2         3         4         5         6   \\\n",
      "0  -0.058119  0.025663 -0.038662  0.047452  0.024491  0.607481 -0.004698   \n",
      "1  -0.000070 -1.183194  0.448853 -0.774825 -0.440322 -0.024323 -0.004698   \n",
      "2   0.696525 -0.449177  1.389251 -0.774825 -0.440322  0.607481  0.590331   \n",
      "3  -0.116169  1.752872 -1.431942  1.650894 -0.440322 -2.726294 -2.032492   \n",
      "4  -0.174218  2.486889 -0.491544  1.650894 -0.440322 -2.726294  0.590331   \n",
      "..       ...       ...       ...       ...       ...       ...       ...   \n",
      "75  0.986772  0.284839 -1.431942  1.650894  1.624858  0.607481 -2.032492   \n",
      "76  0.928723  0.284839  1.389251 -0.774825 -0.440322  0.607481  0.590331   \n",
      "77 -1.044961  0.284839  1.389251 -0.774825 -0.440322  0.607481  0.590331   \n",
      "78 -1.277159  0.284839  0.448853 -0.774825 -0.440322  0.607481  0.590331   \n",
      "79 -1.044961 -1.183194  1.389251 -0.774825 -0.440322  0.607481  0.590331   \n",
      "\n",
      "          7         8         9   ...        14        15        16        17  \\\n",
      "0  -0.337990 -0.217350  1.026379  ... -1.505214 -1.911553  1.819498 -2.520477   \n",
      "1  -0.337990 -0.217350 -0.259906  ...  1.737355  0.108983 -0.153737  1.415619   \n",
      "2  -0.337990 -0.217350 -0.245614  ...  0.304592  0.235267 -0.463264 -0.060417   \n",
      "3  -0.337990 -0.217350 -0.259906  ... -1.693735 -1.911553  0.426626 -1.536453   \n",
      "4   2.997685 -0.217350 -0.588623  ... -1.505214 -1.658986 -1.353154 -2.766483   \n",
      "..       ...       ...       ...  ...       ...       ...       ...       ...   \n",
      "75  2.997685  4.673033  0.140271  ... -2.636342 -2.921820  0.968299 -2.643480   \n",
      "76 -0.337990 -0.217350 -0.688668  ...  1.963581  0.614117 -1.004936  0.554598   \n",
      "77 -0.337990 -0.217350 -0.274198  ...  0.191479  0.740400 -0.888864 -0.306423   \n",
      "78 -0.337990 -0.217350 -1.103137  ...  0.417705  1.876952 -1.198391  1.292616   \n",
      "79 -0.337990 -0.217350 -0.960217  ...  0.568522  1.119251 -0.269810  0.431595   \n",
      "\n",
      "         18        19        20        21        22        23  \n",
      "0   1.32491 -0.751885 -0.292145  0.514609  2.060559  2.504541  \n",
      "1  -0.75715 -0.751885 -0.292145  0.514609 -0.485305 -0.399275  \n",
      "2  -0.75715 -0.751885 -0.292145  0.514609 -0.485305 -0.399275  \n",
      "3   1.32491  1.334073 -0.292145 -1.943224  2.060559  2.504541  \n",
      "4   1.32491 -0.751885  3.434571  0.514609 -0.485305  2.504541  \n",
      "..      ...       ...       ...       ...       ...       ...  \n",
      "75  1.32491  1.334073  3.434571 -1.943224  2.060559 -0.399275  \n",
      "76 -0.75715 -0.751885 -0.292145  0.514609 -0.485305 -0.399275  \n",
      "77 -0.75715 -0.751885 -0.292145  0.514609 -0.485305 -0.399275  \n",
      "78 -0.75715 -0.751885 -0.292145  0.514609 -0.485305 -0.399275  \n",
      "79 -0.75715 -0.751885 -0.292145  0.514609 -0.485305 -0.399275  \n",
      "\n",
      "[80 rows x 24 columns]\n"
     ]
    }
   ],
   "source": [
    "print(X_test)"
   ]
  },
  {
   "cell_type": "code",
   "execution_count": 22,
   "id": "758ba79b",
   "metadata": {},
   "outputs": [
    {
     "name": "stderr",
     "output_type": "stream",
     "text": [
      "C:\\Users\\kgnan\\anaconda3\\lib\\site-packages\\sklearn\\utils\\validation.py:63: DataConversionWarning: A column-vector y was passed when a 1d array was expected. Please change the shape of y to (n_samples, ), for example using ravel().\n",
      "  return f(*args, **kwargs)\n"
     ]
    },
    {
     "data": {
      "text/plain": [
       "SVC(random_state=0)"
      ]
     },
     "execution_count": 22,
     "metadata": {},
     "output_type": "execute_result"
    }
   ],
   "source": [
    "from sklearn.svm import SVC\n",
    "classifier = SVC(kernel = 'rbf',random_state = 0)\n",
    "classifier.fit(X_train, y_train)"
   ]
  },
  {
   "cell_type": "code",
   "execution_count": 23,
   "id": "1a25881c",
   "metadata": {},
   "outputs": [
    {
     "name": "stdout",
     "output_type": "stream",
     "text": [
      "[['ckd' 'ckd']\n",
      " ['notckd' 'notckd']\n",
      " ['notckd' 'notckd']\n",
      " ['ckd' 'ckd']\n",
      " ['ckd' 'ckd']\n",
      " ['ckd' 'ckd']\n",
      " ['ckd' 'ckd']\n",
      " ['notckd' 'notckd']\n",
      " ['ckd' 'ckd']\n",
      " ['ckd' 'ckd']\n",
      " ['ckd' 'ckd']\n",
      " ['ckd' 'ckd']\n",
      " ['ckd' 'ckd']\n",
      " ['notckd' 'notckd']\n",
      " ['ckd' 'ckd']\n",
      " ['ckd' 'ckd']\n",
      " ['notckd' 'notckd']\n",
      " ['ckd' 'ckd']\n",
      " ['ckd' 'ckd']\n",
      " ['ckd' 'ckd']\n",
      " ['ckd' 'ckd']\n",
      " ['notckd' 'notckd']\n",
      " ['ckd' 'ckd']\n",
      " ['notckd' 'notckd']\n",
      " ['ckd' 'ckd']\n",
      " ['notckd' 'notckd']\n",
      " ['ckd' 'ckd']\n",
      " ['ckd' 'ckd']\n",
      " ['notckd' 'notckd']\n",
      " ['ckd' 'ckd']\n",
      " ['ckd' 'ckd']\n",
      " ['notckd' 'notckd']\n",
      " ['notckd' 'notckd']\n",
      " ['ckd' 'ckd']\n",
      " ['ckd' 'ckd']\n",
      " ['ckd' 'ckd']\n",
      " ['ckd' 'ckd']\n",
      " ['ckd' 'ckd']\n",
      " ['ckd' 'ckd']\n",
      " ['notckd' 'notckd']\n",
      " ['ckd' 'ckd']\n",
      " ['notckd' 'notckd']\n",
      " ['ckd' 'ckd']\n",
      " ['ckd' 'ckd']\n",
      " ['notckd' 'notckd']\n",
      " ['ckd' 'ckd']\n",
      " ['notckd' 'notckd']\n",
      " ['notckd' 'notckd']\n",
      " ['ckd' 'ckd']\n",
      " ['ckd' 'ckd']\n",
      " ['ckd' 'ckd']\n",
      " ['ckd' 'ckd']\n",
      " ['notckd' 'notckd']\n",
      " ['ckd' 'ckd']\n",
      " ['notckd' 'notckd']\n",
      " ['notckd' 'notckd']\n",
      " ['ckd' 'ckd']\n",
      " ['ckd' 'ckd']\n",
      " ['ckd' 'ckd']\n",
      " ['ckd' 'ckd']\n",
      " ['ckd' 'ckd']\n",
      " ['notckd' 'notckd']\n",
      " ['ckd' 'ckd']\n",
      " ['notckd' 'notckd']\n",
      " ['ckd' 'ckd']\n",
      " ['notckd' 'notckd']\n",
      " ['ckd' 'ckd']\n",
      " ['ckd' 'ckd']\n",
      " ['ckd' 'ckd']\n",
      " ['notckd' 'notckd']\n",
      " ['ckd' 'ckd']\n",
      " ['notckd' 'notckd']\n",
      " ['ckd' 'ckd']\n",
      " ['ckd' 'ckd']\n",
      " ['ckd' 'ckd']\n",
      " ['ckd' 'ckd']\n",
      " ['notckd' 'notckd']\n",
      " ['notckd' 'notckd']\n",
      " ['notckd' 'notckd']\n",
      " ['notckd' 'notckd']]\n"
     ]
    }
   ],
   "source": [
    "y_pred = classifier.predict(X_test)\n",
    "y_test = y_test.to_numpy() #Converting DataFrame(PD) to arrays(NP)\n",
    "print(np.concatenate((y_pred.reshape(len(y_pred),1), y_test.reshape(len(y_test),1)),1))"
   ]
  },
  {
   "cell_type": "code",
   "execution_count": 24,
   "id": "6b586a27",
   "metadata": {},
   "outputs": [
    {
     "name": "stdout",
     "output_type": "stream",
     "text": [
      "100.0 %\n"
     ]
    }
   ],
   "source": [
    "from sklearn.metrics import accuracy_score\n",
    "acc = accuracy_score(y_pred, y_test)\n",
    "print(acc*100, '%')"
   ]
  },
  {
   "cell_type": "code",
   "execution_count": 25,
   "id": "7824b16c",
   "metadata": {},
   "outputs": [
    {
     "name": "stdout",
     "output_type": "stream",
     "text": [
      "[[52  0]\n",
      " [ 0 28]]\n"
     ]
    }
   ],
   "source": [
    "from sklearn.metrics import confusion_matrix, accuracy_score\n",
    "cm = confusion_matrix(y_test, y_pred)\n",
    "print(cm)"
   ]
  },
  {
   "cell_type": "code",
   "execution_count": 26,
   "id": "2a542db1",
   "metadata": {},
   "outputs": [
    {
     "name": "stdout",
     "output_type": "stream",
     "text": [
      "f: 1.0\n"
     ]
    }
   ],
   "source": [
    "pre = cm[1][1]/(cm[1][1]+cm[0][1])\n",
    "rec = cm[1][1]/(cm[1][1]+cm[1][0])\n",
    "f = 2*pre*rec/(pre+rec)\n",
    "print(\"f:\", f)"
   ]
  },
  {
   "cell_type": "code",
   "execution_count": null,
   "id": "594f624c",
   "metadata": {},
   "outputs": [],
   "source": []
  }
 ],
 "metadata": {
  "kernelspec": {
   "display_name": "Python 3",
   "language": "python",
   "name": "python3"
  },
  "language_info": {
   "codemirror_mode": {
    "name": "ipython",
    "version": 3
   },
   "file_extension": ".py",
   "mimetype": "text/x-python",
   "name": "python",
   "nbconvert_exporter": "python",
   "pygments_lexer": "ipython3",
   "version": "3.8.8"
  }
 },
 "nbformat": 4,
 "nbformat_minor": 5
}
